{
 "cells": [
  {
   "cell_type": "markdown",
   "metadata": {},
   "source": [
    "# COGS 108 - Final Project"
   ]
  },
  {
   "cell_type": "markdown",
   "metadata": {},
   "source": [
    "## Important\n",
    "\n",
    "- ONE, and only one, member of your group should upload this notebook to TritonED. \n",
    "- Each member of the group will receive the same grade on this assignment. \n",
    "- Keep the file name the same: submit the file 'FinalProject.ipynb'.\n",
    "- Only upload the .ipynb file to TED, do not upload any associted data. Make sure that for cells in which you want graders to see output that these cells have been executed."
   ]
  },
  {
   "cell_type": "markdown",
   "metadata": {},
   "source": [
    "## Group Members: Fill in the Student IDs of each group member here\n",
    "\n",
    "Replace the lines below to list each persons full student ID, ucsd email and full name.\n",
    "\n",
    "- A13526259, emz002@ucsd.edu, Emily Zhao\n",
    "- A13555197, rwegznek@ucsd.edu, Rebecca Wegznek\n",
    "- \n",
    "- \n",
    "\n"
   ]
  },
  {
   "cell_type": "markdown",
   "metadata": {},
   "source": [
    "### Introduction and Background:\n",
    "What is the relationship between gender and the lifestyle of Stack Overflow users, and what does this tell us about gender differences in computer science? E.g. job satisfaction, salary/experience, contribution to Stack Overflow, wake time, ethics, frequency of skipping meals, etc.\n",
    "\n",
    "We expect that there will be significant differences between male and female respondents in job satisfaction, formal education, years coding, years coding professionally, salary/experience, contribution to Stack Overflow, ethics, age, country of residence, and hope in 5 years.\n",
    "We believe that females will express higher job satisfaction, have lower salary and experience, contribute less to Stack Overflow, have higher concern for ethics, be of lower average age, be predominantly from Western countries, and have less ambitious hopes for the next 5 years.\n",
    "\n",
    "There is a significant gender disparity in terms of representation and level of achievement in the tech and computer science fields, and we were interested in seeing if and how these disparities manifest themselves in the everyday lives of developers. Historically, tech has been a male dominated field because of various structural and social limitations placed on the female gender. According to Entelo’s Women in Tech report, across the US, only 18% of tech roles are held by women, and 82% held by men. This disparity widens as we move up to senior levels as only 16% of senior level jobs in tech are held by women.\n",
    "\n",
    "These differences in representation reflect social attitudes against women participating in tech. There is often a lack of consideration for the challenges that women face in the workplace, such as a lack of HR policies and benefits packages (Information Age).\n",
    "\n",
    "We believe that these limitations and social attitudes are reflected in the other aspects of daily life, including job satisfaction, salary, wake time, and more. We hypothesized that because of these historical differences, females would hold job satisfaction at a lower standard than males, make less money, be more concerned with ethics, and remember their meals. It is important to recognize these differences between genders and correlations among different aspects of daily life to show that there is an unfair disparity between genders.\n",
    "\n",
    "References:\n",
    "1) Entelo: Women in Tech Report. https://blog.entelo.com/entelo-women-in-tech-report \n",
    "2) Information Age, https://www.information-age.com/tech-gender-gap-2018-123471061/ "
   ]
  },
  {
   "cell_type": "markdown",
   "metadata": {},
   "source": [
    "### Data Description\n",
    "Dataset Name: Stack Overflow 2018 Developer Survey\n",
    "Link to the dataset: https://www.kaggle.com/stackoverflow/stack-overflow-2018-developer-survey\n",
    "Number of observations: 98,855 \n",
    "\n",
    "This data is retrieved from Stack Overflow’s 2018 Developer Survey, in which they ask the developer community a range of questions (129 total). The developers were asked questions about their personal attributes as well as interests."
   ]
  },
  {
   "cell_type": "markdown",
   "metadata": {},
   "source": [
    "### Data Cleaning/Pre-processing"
   ]
  },
  {
   "cell_type": "code",
   "execution_count": 1,
   "metadata": {},
   "outputs": [],
   "source": [
    "# Imports -  These are all you need for the assignment: do not import additional packages\n",
    "%matplotlib inline\n",
    "\n",
    "import numpy as np\n",
    "import pandas as pd\n",
    "import matplotlib.pyplot as plt\n",
    "\n",
    "import patsy\n",
    "import statsmodels.api as sm\n",
    "import scipy.stats as stats\n",
    "from scipy.stats import ttest_ind, chisquare, normaltest"
   ]
  },
  {
   "cell_type": "code",
   "execution_count": 2,
   "metadata": {},
   "outputs": [],
   "source": [
    "df = pd.read_csv('survey_results_public.csv', low_memory=False)\n",
    "df = df[['Gender', 'Age', 'Country', 'Hobby', 'Student', 'FormalEducation', 'YearsCoding', 'YearsCodingProf', 'JobSatisfaction', 'CareerSatisfaction', 'HopeFiveYears', 'AIFuture',\n",
    "'StackOverflowParticipate', 'StackOverflowConsiderMember', 'EthicsChoice']]\n",
    "df.dropna(inplace=True)"
   ]
  },
  {
   "cell_type": "code",
   "execution_count": 3,
   "metadata": {},
   "outputs": [
    {
     "data": {
      "text/html": [
       "<div>\n",
       "<style scoped>\n",
       "    .dataframe tbody tr th:only-of-type {\n",
       "        vertical-align: middle;\n",
       "    }\n",
       "\n",
       "    .dataframe tbody tr th {\n",
       "        vertical-align: top;\n",
       "    }\n",
       "\n",
       "    .dataframe thead th {\n",
       "        text-align: right;\n",
       "    }\n",
       "</style>\n",
       "<table border=\"1\" class=\"dataframe\">\n",
       "  <thead>\n",
       "    <tr style=\"text-align: right;\">\n",
       "      <th></th>\n",
       "      <th>Gender</th>\n",
       "      <th>Age</th>\n",
       "      <th>Country</th>\n",
       "      <th>Hobby</th>\n",
       "      <th>Student</th>\n",
       "      <th>FormalEducation</th>\n",
       "      <th>YearsCoding</th>\n",
       "      <th>YearsCodingProf</th>\n",
       "      <th>JobSatisfaction</th>\n",
       "      <th>CareerSatisfaction</th>\n",
       "      <th>HopeFiveYears</th>\n",
       "      <th>AIFuture</th>\n",
       "      <th>StackOverflowParticipate</th>\n",
       "      <th>StackOverflowConsiderMember</th>\n",
       "      <th>EthicsChoice</th>\n",
       "    </tr>\n",
       "  </thead>\n",
       "  <tbody>\n",
       "    <tr>\n",
       "      <th>0</th>\n",
       "      <td>Male</td>\n",
       "      <td>25 - 34 years old</td>\n",
       "      <td>Kenya</td>\n",
       "      <td>Yes</td>\n",
       "      <td>No</td>\n",
       "      <td>Bachelor’s degree (BA, BS, B.Eng., etc.)</td>\n",
       "      <td>3-5 years</td>\n",
       "      <td>3-5 years</td>\n",
       "      <td>Extremely satisfied</td>\n",
       "      <td>Extremely satisfied</td>\n",
       "      <td>Working as a founder or co-founder of my own c...</td>\n",
       "      <td>I'm excited about the possibilities more than ...</td>\n",
       "      <td>I have never participated in Q&amp;A on Stack Over...</td>\n",
       "      <td>Yes</td>\n",
       "      <td>No</td>\n",
       "    </tr>\n",
       "    <tr>\n",
       "      <th>1</th>\n",
       "      <td>Male</td>\n",
       "      <td>35 - 44 years old</td>\n",
       "      <td>United Kingdom</td>\n",
       "      <td>Yes</td>\n",
       "      <td>No</td>\n",
       "      <td>Bachelor’s degree (BA, BS, B.Eng., etc.)</td>\n",
       "      <td>30 or more years</td>\n",
       "      <td>18-20 years</td>\n",
       "      <td>Moderately dissatisfied</td>\n",
       "      <td>Neither satisfied nor dissatisfied</td>\n",
       "      <td>Working in a different or more specialized tec...</td>\n",
       "      <td>I'm excited about the possibilities more than ...</td>\n",
       "      <td>A few times per month or weekly</td>\n",
       "      <td>Yes</td>\n",
       "      <td>Depends on what it is</td>\n",
       "    </tr>\n",
       "    <tr>\n",
       "      <th>3</th>\n",
       "      <td>Male</td>\n",
       "      <td>35 - 44 years old</td>\n",
       "      <td>United States</td>\n",
       "      <td>No</td>\n",
       "      <td>No</td>\n",
       "      <td>Bachelor’s degree (BA, BS, B.Eng., etc.)</td>\n",
       "      <td>18-20 years</td>\n",
       "      <td>12-14 years</td>\n",
       "      <td>Neither satisfied nor dissatisfied</td>\n",
       "      <td>Slightly dissatisfied</td>\n",
       "      <td>Working as a founder or co-founder of my own c...</td>\n",
       "      <td>I don't care about it, or I haven't thought ab...</td>\n",
       "      <td>A few times per month or weekly</td>\n",
       "      <td>Yes</td>\n",
       "      <td>No</td>\n",
       "    </tr>\n",
       "    <tr>\n",
       "      <th>4</th>\n",
       "      <td>Male</td>\n",
       "      <td>18 - 24 years old</td>\n",
       "      <td>South Africa</td>\n",
       "      <td>Yes</td>\n",
       "      <td>Yes, part-time</td>\n",
       "      <td>Some college/university study without earning ...</td>\n",
       "      <td>6-8 years</td>\n",
       "      <td>0-2 years</td>\n",
       "      <td>Slightly satisfied</td>\n",
       "      <td>Moderately satisfied</td>\n",
       "      <td>Working in a different or more specialized tec...</td>\n",
       "      <td>I'm excited about the possibilities more than ...</td>\n",
       "      <td>Less than once per month or monthly</td>\n",
       "      <td>Yes</td>\n",
       "      <td>No</td>\n",
       "    </tr>\n",
       "    <tr>\n",
       "      <th>5</th>\n",
       "      <td>Male</td>\n",
       "      <td>18 - 24 years old</td>\n",
       "      <td>United Kingdom</td>\n",
       "      <td>Yes</td>\n",
       "      <td>No</td>\n",
       "      <td>Bachelor’s degree (BA, BS, B.Eng., etc.)</td>\n",
       "      <td>6-8 years</td>\n",
       "      <td>3-5 years</td>\n",
       "      <td>Moderately satisfied</td>\n",
       "      <td>Slightly satisfied</td>\n",
       "      <td>Working in a different or more specialized tec...</td>\n",
       "      <td>I'm excited about the possibilities more than ...</td>\n",
       "      <td>Less than once per month or monthly</td>\n",
       "      <td>No</td>\n",
       "      <td>Depends on what it is</td>\n",
       "    </tr>\n",
       "  </tbody>\n",
       "</table>\n",
       "</div>"
      ],
      "text/plain": [
       "  Gender                Age         Country Hobby         Student  \\\n",
       "0   Male  25 - 34 years old           Kenya   Yes              No   \n",
       "1   Male  35 - 44 years old  United Kingdom   Yes              No   \n",
       "3   Male  35 - 44 years old   United States    No              No   \n",
       "4   Male  18 - 24 years old    South Africa   Yes  Yes, part-time   \n",
       "5   Male  18 - 24 years old  United Kingdom   Yes              No   \n",
       "\n",
       "                                     FormalEducation       YearsCoding  \\\n",
       "0           Bachelor’s degree (BA, BS, B.Eng., etc.)         3-5 years   \n",
       "1           Bachelor’s degree (BA, BS, B.Eng., etc.)  30 or more years   \n",
       "3           Bachelor’s degree (BA, BS, B.Eng., etc.)       18-20 years   \n",
       "4  Some college/university study without earning ...         6-8 years   \n",
       "5           Bachelor’s degree (BA, BS, B.Eng., etc.)         6-8 years   \n",
       "\n",
       "  YearsCodingProf                     JobSatisfaction  \\\n",
       "0       3-5 years                 Extremely satisfied   \n",
       "1     18-20 years             Moderately dissatisfied   \n",
       "3     12-14 years  Neither satisfied nor dissatisfied   \n",
       "4       0-2 years                  Slightly satisfied   \n",
       "5       3-5 years                Moderately satisfied   \n",
       "\n",
       "                   CareerSatisfaction  \\\n",
       "0                 Extremely satisfied   \n",
       "1  Neither satisfied nor dissatisfied   \n",
       "3               Slightly dissatisfied   \n",
       "4                Moderately satisfied   \n",
       "5                  Slightly satisfied   \n",
       "\n",
       "                                       HopeFiveYears  \\\n",
       "0  Working as a founder or co-founder of my own c...   \n",
       "1  Working in a different or more specialized tec...   \n",
       "3  Working as a founder or co-founder of my own c...   \n",
       "4  Working in a different or more specialized tec...   \n",
       "5  Working in a different or more specialized tec...   \n",
       "\n",
       "                                            AIFuture  \\\n",
       "0  I'm excited about the possibilities more than ...   \n",
       "1  I'm excited about the possibilities more than ...   \n",
       "3  I don't care about it, or I haven't thought ab...   \n",
       "4  I'm excited about the possibilities more than ...   \n",
       "5  I'm excited about the possibilities more than ...   \n",
       "\n",
       "                            StackOverflowParticipate  \\\n",
       "0  I have never participated in Q&A on Stack Over...   \n",
       "1                    A few times per month or weekly   \n",
       "3                    A few times per month or weekly   \n",
       "4                Less than once per month or monthly   \n",
       "5                Less than once per month or monthly   \n",
       "\n",
       "  StackOverflowConsiderMember           EthicsChoice  \n",
       "0                         Yes                     No  \n",
       "1                         Yes  Depends on what it is  \n",
       "3                         Yes                     No  \n",
       "4                         Yes                     No  \n",
       "5                          No  Depends on what it is  "
      ]
     },
     "execution_count": 3,
     "metadata": {},
     "output_type": "execute_result"
    }
   ],
   "source": [
    "df.head(5)"
   ]
  },
  {
   "cell_type": "code",
   "execution_count": 4,
   "metadata": {},
   "outputs": [
    {
     "data": {
      "text/plain": [
       "46473"
      ]
     },
     "execution_count": 4,
     "metadata": {},
     "output_type": "execute_result"
    }
   ],
   "source": [
    "len(df)"
   ]
  },
  {
   "cell_type": "code",
   "execution_count": 5,
   "metadata": {},
   "outputs": [
    {
     "data": {
      "text/plain": [
       "array(['25 - 34 years old', '35 - 44 years old', '18 - 24 years old',\n",
       "       '45 - 54 years old', '55 - 64 years old', 'Under 18 years old',\n",
       "       '65 years or older'], dtype=object)"
      ]
     },
     "execution_count": 5,
     "metadata": {},
     "output_type": "execute_result"
    }
   ],
   "source": [
    "df[\"Age\"].unique()"
   ]
  },
  {
   "cell_type": "code",
   "execution_count": 6,
   "metadata": {},
   "outputs": [],
   "source": [
    "def shorten_age(string):\n",
    "    string = string.lower()\n",
    "    string = string.strip()\n",
    "    \n",
    "    if \"25 - 34\" in string:\n",
    "        output = \"25 - 34\"\n",
    "    elif \"35 - 44\" in string:\n",
    "        output = \"35 - 44\"\n",
    "    elif \"18 - 24\" in string:\n",
    "        output = \"18 - 24\"\n",
    "    elif \"45 - 54\" in string:\n",
    "        output = \"45 - 54\"\n",
    "    elif \"55 - 64\" in string:\n",
    "        output = \"55 - 64\"\n",
    "    elif \"Under 18 years old\" in string:\n",
    "        output = \"Under 18\"\n",
    "    elif \"65 years or older\" in string:\n",
    "        output = \"65 or older\"\n",
    "    # Otherwise, if uncaught - keep as is\n",
    "    else:\n",
    "        output = string\n",
    "    \n",
    "    return output"
   ]
  },
  {
   "cell_type": "code",
   "execution_count": 7,
   "metadata": {},
   "outputs": [],
   "source": [
    "df[\"Age\"] = df[\"Age\"].apply(shorten_age)"
   ]
  },
  {
   "cell_type": "code",
   "execution_count": 8,
   "metadata": {},
   "outputs": [
    {
     "data": {
      "text/plain": [
       "25 - 34               25157\n",
       "35 - 44                9113\n",
       "18 - 24                8897\n",
       "45 - 54                2408\n",
       "55 - 64                 608\n",
       "under 18 years old      230\n",
       "65 or older              60\n",
       "Name: Age, dtype: int64"
      ]
     },
     "execution_count": 8,
     "metadata": {},
     "output_type": "execute_result"
    }
   ],
   "source": [
    "df[\"Age\"].value_counts()"
   ]
  },
  {
   "cell_type": "markdown",
   "metadata": {},
   "source": [
    "### Data Visualization"
   ]
  },
  {
   "cell_type": "code",
   "execution_count": 9,
   "metadata": {},
   "outputs": [
    {
     "data": {
      "image/png": "[encoded data removed]",
      "text/plain": [
       "<Figure size 432x288 with 1 Axes>"
      ]
     },
     "metadata": {
      "needs_background": "light"
     },
     "output_type": "display_data"
    }
   ],
   "source": [
    "female = df[(df['Gender']=='Female')]\n",
    "pd.value_counts(female['Age']).plot(kind=\"bar\")\n",
    "f2 = plt.gcf()"
   ]
  },
  {
   "cell_type": "code",
   "execution_count": 10,
   "metadata": {},
   "outputs": [
    {
     "data": {
      "image/png": "[encoded data removed]",
      "text/plain": [
       "<Figure size 432x288 with 1 Axes>"
      ]
     },
     "metadata": {
      "needs_background": "light"
     },
     "output_type": "display_data"
    }
   ],
   "source": [
    "male = df[(df['Gender']=='Male')]\n",
    "pd.value_counts(male['Age']).plot(kind=\"bar\")\n",
    "f1 = plt.gcf()"
   ]
  },
  {
   "cell_type": "code",
   "execution_count": 11,
   "metadata": {},
   "outputs": [
    {
     "data": {
      "image/png": "[encoded data removed]",
      "text/plain": [
       "<Figure size 432x288 with 1 Axes>"
      ]
     },
     "metadata": {
      "needs_background": "light"
     },
     "output_type": "display_data"
    }
   ],
   "source": [
    "female[\"YearsCoding\"].value_counts().plot(kind=\"bar\")\n",
    "\n",
    "f3 = plt.gcf()"
   ]
  },
  {
   "cell_type": "code",
   "execution_count": 12,
   "metadata": {},
   "outputs": [
    {
     "data": {
      "image/png": "[encoded data removed]",
      "text/plain": [
       "<Figure size 432x288 with 1 Axes>"
      ]
     },
     "metadata": {
      "needs_background": "light"
     },
     "output_type": "display_data"
    }
   ],
   "source": [
    "male[\"YearsCoding\"].value_counts().plot(kind=\"bar\")\n",
    "\n",
    "f4 = plt.gcf()"
   ]
  },
  {
   "cell_type": "code",
   "execution_count": 13,
   "metadata": {},
   "outputs": [
    {
     "data": {
      "image/png": "[encoded data removed]",
      "text/plain": [
       "<Figure size 432x288 with 1 Axes>"
      ]
     },
     "metadata": {
      "needs_background": "light"
     },
     "output_type": "display_data"
    }
   ],
   "source": [
    "female[\"JobSatisfaction\"].value_counts().plot(kind=\"bar\")\n",
    "\n",
    "f5 = plt.gcf()"
   ]
  },
  {
   "cell_type": "code",
   "execution_count": 14,
   "metadata": {},
   "outputs": [
    {
     "data": {
      "image/png": "[encoded data removed]",
      "text/plain": [
       "<Figure size 432x288 with 1 Axes>"
      ]
     },
     "metadata": {
      "needs_background": "light"
     },
     "output_type": "display_data"
    }
   ],
   "source": [
    "male[\"JobSatisfaction\"].value_counts().plot(kind=\"bar\")\n",
    "\n",
    "f6 = plt.gcf()"
   ]
  },
  {
   "cell_type": "code",
   "execution_count": 15,
   "metadata": {},
   "outputs": [
    {
     "data": {
      "image/png": "[encoded data removed]",
      "text/plain": [
       "<Figure size 432x288 with 1 Axes>"
      ]
     },
     "metadata": {
      "needs_background": "light"
     },
     "output_type": "display_data"
    }
   ],
   "source": [
    "female[\"Hobby\"].value_counts().plot(kind=\"bar\")\n",
    "f5 = plt.gcf()"
   ]
  },
  {
   "cell_type": "code",
   "execution_count": 16,
   "metadata": {},
   "outputs": [
    {
     "data": {
      "image/png": "[encoded data removed]",
      "text/plain": [
       "<Figure size 432x288 with 1 Axes>"
      ]
     },
     "metadata": {
      "needs_background": "light"
     },
     "output_type": "display_data"
    }
   ],
   "source": [
    "male[\"Hobby\"].value_counts().plot(kind=\"bar\")\n",
    "f5 = plt.gcf()"
   ]
  },
  {
   "cell_type": "code",
   "execution_count": 17,
   "metadata": {},
   "outputs": [
    {
     "data": {
      "image/png": "[encoded data removed]",
      "text/plain": [
       "<Figure size 432x288 with 1 Axes>"
      ]
     },
     "metadata": {
      "needs_background": "light"
     },
     "output_type": "display_data"
    }
   ],
   "source": [
    "female[\"Student\"].value_counts().plot(kind=\"bar\")\n",
    "f5 = plt.gcf()"
   ]
  },
  {
   "cell_type": "markdown",
   "metadata": {},
   "source": [
    "### Data Analysis and Results"
   ]
  },
  {
   "cell_type": "markdown",
   "metadata": {},
   "source": [
    "## chi squared tests"
   ]
  },
  {
   "cell_type": "code",
   "execution_count": 18,
   "metadata": {},
   "outputs": [],
   "source": [
    "f = df[df['Gender'] == 'Female']['Country'].value_counts()\n",
    "m = df[df['Gender'] == 'Male']['Country'].value_counts()"
   ]
  },
  {
   "cell_type": "code",
   "execution_count": 19,
   "metadata": {},
   "outputs": [],
   "source": [
    "f_ratio = f['United States']/sum(f)\n",
    "m_ratio = m['United States']/sum(m)"
   ]
  },
  {
   "cell_type": "code",
   "execution_count": 20,
   "metadata": {},
   "outputs": [],
   "source": [
    "chisq, p_val_chi = stats.chisquare(np.array([f_ratio, m_ratio]), axis=None)"
   ]
  },
  {
   "cell_type": "code",
   "execution_count": 21,
   "metadata": {},
   "outputs": [
    {
     "name": "stdout",
     "output_type": "stream",
     "text": [
      "There is NOT a significant difference for country\n"
     ]
    }
   ],
   "source": [
    "if p_val_chi < 0.01:\n",
    "    print('There is a significant difference for country')\n",
    "else:\n",
    "    print('There is NOT a significant difference for country')"
   ]
  },
  {
   "cell_type": "code",
   "execution_count": 22,
   "metadata": {},
   "outputs": [],
   "source": [
    "#get value counts for job satisfaction per gender\n",
    "f = df[df['Gender'] == 'Female']['JobSatisfaction'].value_counts()\n",
    "m = df[df['Gender'] == 'Male']['JobSatisfaction'].value_counts()"
   ]
  },
  {
   "cell_type": "code",
   "execution_count": 23,
   "metadata": {},
   "outputs": [],
   "source": [
    "f_ratio = f['Extremely satisfied']/sum(f)\n",
    "m_ratio = m['Extremely satisfied']/sum(m)"
   ]
  },
  {
   "cell_type": "code",
   "execution_count": 24,
   "metadata": {},
   "outputs": [],
   "source": [
    "#perform chi-squared test to see if the difference in satisfaction is significant\n",
    "chisq, p_val_chi = stats.chisquare(np.array([f_ratio, m_ratio]), axis=None)"
   ]
  },
  {
   "cell_type": "code",
   "execution_count": 25,
   "metadata": {},
   "outputs": [
    {
     "name": "stdout",
     "output_type": "stream",
     "text": [
      "There is NOT a significant difference for job satisfaction\n"
     ]
    }
   ],
   "source": [
    "if p_val_chi < 0.01:\n",
    "    print('There is a significant difference for job satisfaction')\n",
    "else:\n",
    "    print('There is NOT a significant difference for job satisfaction')"
   ]
  },
  {
   "cell_type": "code",
   "execution_count": 26,
   "metadata": {},
   "outputs": [],
   "source": [
    "f = df[df['Gender'] == 'Female']['YearsCoding'].value_counts()\n",
    "m = df[df['Gender'] == 'Male']['YearsCoding'].value_counts()"
   ]
  },
  {
   "cell_type": "code",
   "execution_count": 27,
   "metadata": {},
   "outputs": [],
   "source": [
    "f_ratio = f['30 or more years']/sum(f)\n",
    "m_ratio = m['30 or more years']/sum(m)"
   ]
  },
  {
   "cell_type": "code",
   "execution_count": 28,
   "metadata": {},
   "outputs": [],
   "source": [
    "#perform chi-squared test to see if the difference in years coding is significant\n",
    "chisq, p_val_chi = stats.chisquare(np.array([f_ratio, m_ratio]), axis=None)"
   ]
  },
  {
   "cell_type": "code",
   "execution_count": 29,
   "metadata": {},
   "outputs": [
    {
     "name": "stdout",
     "output_type": "stream",
     "text": [
      "There is NOT a significant difference for years coding\n"
     ]
    }
   ],
   "source": [
    "if p_val_chi < 0.01:\n",
    "    print('There is a significant difference for years coding')\n",
    "else:\n",
    "    print('There is NOT a significant difference for years coding')"
   ]
  },
  {
   "cell_type": "code",
   "execution_count": 30,
   "metadata": {},
   "outputs": [],
   "source": [
    "f = df[df['Gender'] == 'Female']['FormalEducation'].value_counts()\n",
    "m = df[df['Gender'] == 'Male']['FormalEducation'].value_counts()"
   ]
  },
  {
   "cell_type": "code",
   "execution_count": 31,
   "metadata": {},
   "outputs": [],
   "source": [
    "f_ratio = f['Bachelor’s degree (BA, BS, B.Eng., etc.)']/sum(f)\n",
    "m_ratio = m['Bachelor’s degree (BA, BS, B.Eng., etc.)']/sum(m)"
   ]
  },
  {
   "cell_type": "code",
   "execution_count": 32,
   "metadata": {},
   "outputs": [],
   "source": [
    "#perform chi-squared test to see if the difference in formal education is significant\n",
    "chisq, p_val_chi = stats.chisquare(np.array([f_ratio, m_ratio]), axis=None)"
   ]
  },
  {
   "cell_type": "code",
   "execution_count": 33,
   "metadata": {},
   "outputs": [
    {
     "name": "stdout",
     "output_type": "stream",
     "text": [
      "There is NOT a significant difference for formal education\n"
     ]
    }
   ],
   "source": [
    "if p_val_chi < 0.05:\n",
    "    print('There is a significant difference for formal education')\n",
    "else:\n",
    "    print('There is NOT a significant difference for formal education')"
   ]
  },
  {
   "cell_type": "markdown",
   "metadata": {},
   "source": [
    "## Regression"
   ]
  },
  {
   "cell_type": "code",
   "execution_count": 34,
   "metadata": {},
   "outputs": [],
   "source": [
    "df2 = pd.concat([female, male])"
   ]
  },
  {
   "cell_type": "code",
   "execution_count": 35,
   "metadata": {},
   "outputs": [],
   "source": [
    "# predict country -- only United States and India -- from gender\n",
    "# to simplify regression for predicting country, just used India and United States\n",
    "india = df2[df2['Country'] == 'India']\n",
    "us = df2[df2['Country'] == 'United States']\n",
    "df3 = pd.concat([india, us])"
   ]
  },
  {
   "cell_type": "code",
   "execution_count": 36,
   "metadata": {},
   "outputs": [],
   "source": [
    "def convert_country(label):\n",
    "    if(label == 'United States'):\n",
    "        return 1.0\n",
    "    else: # label == 'India'\n",
    "        return 0.0"
   ]
  },
  {
   "cell_type": "code",
   "execution_count": 37,
   "metadata": {},
   "outputs": [],
   "source": [
    "df3['Country2'] = df3['Country'].apply(convert_country)"
   ]
  },
  {
   "cell_type": "code",
   "execution_count": 38,
   "metadata": {},
   "outputs": [],
   "source": [
    "outcome_1, predictors_1 = patsy.dmatrices('Country2 ~ Gender', df3)\n",
    "mod_1 = sm.OLS(outcome_1, predictors_1)\n",
    "res_1 = mod_1.fit()"
   ]
  },
  {
   "cell_type": "code",
   "execution_count": 39,
   "metadata": {},
   "outputs": [
    {
     "name": "stdout",
     "output_type": "stream",
     "text": [
      "                            OLS Regression Results                            \n",
      "==============================================================================\n",
      "Dep. Variable:               Country2   R-squared:                       0.001\n",
      "Model:                            OLS   Adj. R-squared:                  0.000\n",
      "Method:                 Least Squares   F-statistic:                     8.836\n",
      "Date:                Tue, 19 Mar 2019   Prob (F-statistic):            0.00296\n",
      "Time:                        17:38:14   Log-Likelihood:                -9991.0\n",
      "No. Observations:               15805   AIC:                         1.999e+04\n",
      "Df Residuals:                   15803   BIC:                         2.000e+04\n",
      "Df Model:                           1                                         \n",
      "Covariance Type:            nonrobust                                         \n",
      "==================================================================================\n",
      "                     coef    std err          t      P>|t|      [0.025      0.975]\n",
      "----------------------------------------------------------------------------------\n",
      "Intercept          0.7471      0.014     52.709      0.000       0.719       0.775\n",
      "Gender[T.Male]    -0.0436      0.015     -2.973      0.003      -0.072      -0.015\n",
      "==============================================================================\n",
      "Omnibus:                    13009.696   Durbin-Watson:                   0.000\n",
      "Prob(Omnibus):                  0.000   Jarque-Bera (JB):             3072.590\n",
      "Skew:                          -0.905   Prob(JB):                         0.00\n",
      "Kurtosis:                       1.822   Cond. No.                         7.70\n",
      "==============================================================================\n",
      "\n",
      "Warnings:\n",
      "[1] Standard Errors assume that the covariance matrix of the errors is correctly specified.\n"
     ]
    }
   ],
   "source": [
    "print(res_1.summary())"
   ]
  },
  {
   "cell_type": "code",
   "execution_count": 40,
   "metadata": {},
   "outputs": [],
   "source": [
    "# predict job satisfaction from gender\n",
    "def convert_jobsat(label):\n",
    "    if(label == 'Extremely satisfied'):\n",
    "        return 6.0\n",
    "    elif(label == 'Moderately satisfied'):\n",
    "        return 5.0\n",
    "    elif(label == 'Slightly satisfied'):\n",
    "        return 4.0\n",
    "    elif(label == 'Neither satisfied nor dissatisfied'):\n",
    "        return 3.0\n",
    "    elif(label == 'Slightly dissatisfied'): \n",
    "        return 2.0\n",
    "    elif(label == 'Moderately dissatisfied'):\n",
    "        return 1.0\n",
    "    else: # label == 'Extremely dissatisfied'\n",
    "        return 0.0"
   ]
  },
  {
   "cell_type": "code",
   "execution_count": 41,
   "metadata": {},
   "outputs": [],
   "source": [
    "df2['JobSatisfaction2'] = df2['JobSatisfaction'].apply(convert_jobsat)"
   ]
  },
  {
   "cell_type": "code",
   "execution_count": 42,
   "metadata": {},
   "outputs": [],
   "source": [
    "outcome_1, predictors_1 = patsy.dmatrices('JobSatisfaction2 ~ Gender', df2)\n",
    "mod_1 = sm.OLS(outcome_1, predictors_1)\n",
    "res_1 = mod_1.fit()"
   ]
  },
  {
   "cell_type": "code",
   "execution_count": 43,
   "metadata": {},
   "outputs": [
    {
     "name": "stdout",
     "output_type": "stream",
     "text": [
      "                            OLS Regression Results                            \n",
      "==============================================================================\n",
      "Dep. Variable:       JobSatisfaction2   R-squared:                       0.000\n",
      "Model:                            OLS   Adj. R-squared:                 -0.000\n",
      "Method:                 Least Squares   F-statistic:                    0.1373\n",
      "Date:                Tue, 19 Mar 2019   Prob (F-statistic):              0.711\n",
      "Time:                        17:38:16   Log-Likelihood:                -89915.\n",
      "No. Observations:               45920   AIC:                         1.798e+05\n",
      "Df Residuals:                   45918   BIC:                         1.799e+05\n",
      "Df Model:                           1                                         \n",
      "Covariance Type:            nonrobust                                         \n",
      "==================================================================================\n",
      "                     coef    std err          t      P>|t|      [0.025      0.975]\n",
      "----------------------------------------------------------------------------------\n",
      "Intercept          4.0636      0.035    116.252      0.000       3.995       4.132\n",
      "Gender[T.Male]     0.0133      0.036      0.370      0.711      -0.057       0.084\n",
      "==============================================================================\n",
      "Omnibus:                     4848.953   Durbin-Watson:                   1.994\n",
      "Prob(Omnibus):                  0.000   Jarque-Bera (JB):             5904.332\n",
      "Skew:                          -0.851   Prob(JB):                         0.00\n",
      "Kurtosis:                       2.562   Cond. No.                         8.62\n",
      "==============================================================================\n",
      "\n",
      "Warnings:\n",
      "[1] Standard Errors assume that the covariance matrix of the errors is correctly specified.\n"
     ]
    }
   ],
   "source": [
    "print(res_1.summary())"
   ]
  },
  {
   "cell_type": "code",
   "execution_count": 44,
   "metadata": {},
   "outputs": [],
   "source": [
    "# predict years coding from gender\n",
    "# to easily convert this just used average year for each\n",
    "def convert_years(label):\n",
    "    if(label == '6-8 years'):\n",
    "        return 7.0\n",
    "    elif(label == '3-5 years'):\n",
    "        return 6.0\n",
    "    elif(label == '9-11 years'):\n",
    "        return 10.0\n",
    "    elif(label == '12-14 years'):\n",
    "        return 13.0\n",
    "    elif(label == '15-17 years'):\n",
    "        return 16.0\n",
    "    elif(label == '18-20 years'):\n",
    "        return 19.0\n",
    "    elif(label == '0-2 years'):\n",
    "        return 1.0\n",
    "    elif(label == '30 or more years'):\n",
    "        return 30.0\n",
    "    elif(label == '21-23 years'):\n",
    "        return 22.0\n",
    "    elif(label == '24-26 years'):\n",
    "        return 25.0\n",
    "    elif(label == '27-29 years'):\n",
    "        return 28.0\n",
    "    else:\n",
    "        return 0.0"
   ]
  },
  {
   "cell_type": "code",
   "execution_count": 45,
   "metadata": {},
   "outputs": [],
   "source": [
    "df2['YearsCoding2'] = df2['YearsCoding'].apply(convert_years)"
   ]
  },
  {
   "cell_type": "code",
   "execution_count": 46,
   "metadata": {},
   "outputs": [],
   "source": [
    "outcome_1, predictors_1 = patsy.dmatrices('YearsCoding2 ~ Gender', df2)\n",
    "mod_1 = sm.OLS(outcome_1, predictors_1)\n",
    "res_1 = mod_1.fit()"
   ]
  },
  {
   "cell_type": "code",
   "execution_count": 47,
   "metadata": {},
   "outputs": [
    {
     "name": "stdout",
     "output_type": "stream",
     "text": [
      "                            OLS Regression Results                            \n",
      "==============================================================================\n",
      "Dep. Variable:           YearsCoding2   R-squared:                       0.007\n",
      "Model:                            OLS   Adj. R-squared:                  0.007\n",
      "Method:                 Least Squares   F-statistic:                     327.2\n",
      "Date:                Tue, 19 Mar 2019   Prob (F-statistic):           6.86e-73\n",
      "Time:                        17:38:16   Log-Likelihood:            -1.5483e+05\n",
      "No. Observations:               45920   AIC:                         3.097e+05\n",
      "Df Residuals:                   45918   BIC:                         3.097e+05\n",
      "Df Model:                           1                                         \n",
      "Covariance Type:            nonrobust                                         \n",
      "==================================================================================\n",
      "                     coef    std err          t      P>|t|      [0.025      0.975]\n",
      "----------------------------------------------------------------------------------\n",
      "Intercept          8.9406      0.144     62.221      0.000       8.659       9.222\n",
      "Gender[T.Male]     2.6702      0.148     18.090      0.000       2.381       2.960\n",
      "==============================================================================\n",
      "Omnibus:                     6213.366   Durbin-Watson:                   1.980\n",
      "Prob(Omnibus):                  0.000   Jarque-Bera (JB):             9033.310\n",
      "Skew:                           1.059   Prob(JB):                         0.00\n",
      "Kurtosis:                       3.489   Cond. No.                         8.62\n",
      "==============================================================================\n",
      "\n",
      "Warnings:\n",
      "[1] Standard Errors assume that the covariance matrix of the errors is correctly specified.\n"
     ]
    }
   ],
   "source": [
    "print(res_1.summary())"
   ]
  },
  {
   "cell_type": "code",
   "execution_count": 48,
   "metadata": {},
   "outputs": [],
   "source": [
    "# formal education from gender\n",
    "# convert formal education by giving average number of years to get that degree\n",
    "def convert_ed(label):\n",
    "    if(label == 'Bachelor’s degree (BA, BS, B.Eng., etc.)'):\n",
    "        return 16.0\n",
    "    elif(label == 'Master’s degree (MA, MS, M.Eng., MBA, etc.)'):\n",
    "        return 18.0\n",
    "    elif(label == 'Some college/university study without earning a degree'):\n",
    "        return 14.0\n",
    "    elif(label == 'Secondary school (e.g. American high school, German Realschule or Gymnasium, etc.)'):\n",
    "        return 12.0\n",
    "    elif(label == 'Associate degree'):\n",
    "        return 14.0\n",
    "    elif(label == 'Other doctoral degree (Ph.D, Ed.D., etc.)'):\n",
    "        return 24.0\n",
    "    elif(label == 'Professional degree (JD, MD, etc.)'):\n",
    "        return 21.0\n",
    "    elif(label == 'Primary/elementary school'):\n",
    "        return 8.0\n",
    "    elif(label == 'I never completed any formal education'):\n",
    "        return 5.0\n",
    "    else:\n",
    "        return 0.0"
   ]
  },
  {
   "cell_type": "code",
   "execution_count": 49,
   "metadata": {},
   "outputs": [],
   "source": [
    "df2['FormalEducation2'] = df2['FormalEducation'].apply(convert_ed)"
   ]
  },
  {
   "cell_type": "code",
   "execution_count": 50,
   "metadata": {},
   "outputs": [],
   "source": [
    "outcome_1, predictors_1 = patsy.dmatrices('FormalEducation2 ~ Gender', df2)\n",
    "mod_1 = sm.OLS(outcome_1, predictors_1)\n",
    "res_1 = mod_1.fit()"
   ]
  },
  {
   "cell_type": "code",
   "execution_count": 51,
   "metadata": {},
   "outputs": [
    {
     "name": "stdout",
     "output_type": "stream",
     "text": [
      "                            OLS Regression Results                            \n",
      "==============================================================================\n",
      "Dep. Variable:       FormalEducation2   R-squared:                       0.001\n",
      "Model:                            OLS   Adj. R-squared:                  0.001\n",
      "Method:                 Least Squares   F-statistic:                     40.08\n",
      "Date:                Tue, 19 Mar 2019   Prob (F-statistic):           2.46e-10\n",
      "Time:                        17:38:19   Log-Likelihood:            -1.0369e+05\n",
      "No. Observations:               45920   AIC:                         2.074e+05\n",
      "Df Residuals:                   45918   BIC:                         2.074e+05\n",
      "Df Model:                           1                                         \n",
      "Covariance Type:            nonrobust                                         \n",
      "==================================================================================\n",
      "                     coef    std err          t      P>|t|      [0.025      0.975]\n",
      "----------------------------------------------------------------------------------\n",
      "Intercept         16.4426      0.047    348.457      0.000      16.350      16.535\n",
      "Gender[T.Male]    -0.3069      0.048     -6.331      0.000      -0.402      -0.212\n",
      "==============================================================================\n",
      "Omnibus:                     4782.644   Durbin-Watson:                   1.974\n",
      "Prob(Omnibus):                  0.000   Jarque-Bera (JB):            36677.936\n",
      "Skew:                           0.189   Prob(JB):                         0.00\n",
      "Kurtosis:                       7.362   Cond. No.                         8.62\n",
      "==============================================================================\n",
      "\n",
      "Warnings:\n",
      "[1] Standard Errors assume that the covariance matrix of the errors is correctly specified.\n"
     ]
    }
   ],
   "source": [
    "print(res_1.summary())"
   ]
  },
  {
   "cell_type": "markdown",
   "metadata": {},
   "source": [
    "### Privacy/Ethics Considerations \n",
    "We have permission to use this dataset for the purpose of exploring our hypothesis. The only potential privacy concern is that the respondents ages are included, so we’ll have to edit that to make sure it only includes respondents between the ages of 18 to 90. There are some biases in the dataset because the majority of responders (over 90%) to the survey are male. It also looks primarily at the lifestyle of people working in computing, so our results may only be generalizable to those who work in computing. There are no potential problems when it comes to data privacy and equitable impact. In order to deal with the gender bias we plan to use t-tests, chi-squared tests and regression so it won’t hugely affect our results."
   ]
  },
  {
   "cell_type": "markdown",
   "metadata": {},
   "source": [
    "### Conclusions and Discussion"
   ]
  },
  {
   "cell_type": "markdown",
   "metadata": {},
   "source": [
    "As shown from the data analysis and visualization sections, we can see that there is not a signifcant difference for job satisfaction between female and males. "
   ]
  },
  {
   "cell_type": "code",
   "execution_count": null,
   "metadata": {},
   "outputs": [],
   "source": []
  }
 ],
 "metadata": {
  "kernelspec": {
   "display_name": "Python 3",
   "language": "python",
   "name": "python3"
  },
  "language_info": {
   "codemirror_mode": {
    "name": "ipython",
    "version": 3
   },
   "file_extension": ".py",
   "mimetype": "text/x-python",
   "name": "python",
   "nbconvert_exporter": "python",
   "pygments_lexer": "ipython3",
   "version": "3.6.8"
  }
 },
 "nbformat": 4,
 "nbformat_minor": 2
}
